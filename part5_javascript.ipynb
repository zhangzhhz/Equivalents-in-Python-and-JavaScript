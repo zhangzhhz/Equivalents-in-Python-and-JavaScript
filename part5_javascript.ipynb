{
 "cells": [
  {
   "cell_type": "markdown",
   "metadata": {},
   "source": [
    "# [Equivalents in Python and JavaScript. Bonus](https://djangotricks.blogspot.com/2019/02/equivalents-in-python-and-javascript-bonus.html)"
   ]
  },
  {
   "cell_type": "markdown",
   "metadata": {},
   "source": [
    "### All Truthful Elements"
   ]
  },
  {
   "cell_type": "code",
   "execution_count": 6,
   "metadata": {},
   "outputs": [
    {
     "name": "stdout",
     "output_type": "stream",
     "text": [
      "true\n"
     ]
    }
   ],
   "source": [
    "let items = [1, 2, 3];\n",
    "let all_truthy = items.every(Boolean) \n",
    "// equivalent to items.every(e => Boolean(e))\n",
    "all_truthy"
   ]
  },
  {
   "cell_type": "markdown",
   "metadata": {},
   "source": [
    "### ANy Truthful Elements"
   ]
  },
  {
   "cell_type": "code",
   "execution_count": 8,
   "metadata": {},
   "outputs": [
    {
     "name": "stdout",
     "output_type": "stream",
     "text": [
      "true\n"
     ]
    }
   ],
   "source": [
    "let items = [0, 1, 2, 3];\n",
    "let some_truthy = items.some(Boolean) \n",
    "// equivalent to items.some(e => Boolean(e))\n",
    "some_truthy"
   ]
  },
  {
   "cell_type": "markdown",
   "metadata": {},
   "source": [
    "### Iterate Through Each Element and Its Index"
   ]
  },
  {
   "cell_type": "code",
   "execution_count": 10,
   "metadata": {},
   "outputs": [
    {
     "name": "stdout",
     "output_type": "stream",
     "text": [
      "0: a\n",
      "1: b\n",
      "2: c\n",
      "3: d\n"
     ]
    }
   ],
   "source": [
    "let items = ['a', 'b', 'c', 'd']\n",
    "for (let [index, element] of items.entries()) {\n",
    "    console.log(`${index}: ${element}`);\n",
    "}"
   ]
  },
  {
   "cell_type": "markdown",
   "metadata": {},
   "source": [
    "or"
   ]
  },
  {
   "cell_type": "code",
   "execution_count": 18,
   "metadata": {},
   "outputs": [
    {
     "name": "stdout",
     "output_type": "stream",
     "text": [
      "0: a\n",
      "1: b\n",
      "2: c\n",
      "3: d\n"
     ]
    }
   ],
   "source": [
    "let items = ['a', 'b', 'c', 'd']\n",
    "items.forEach((element, index) => {\n",
    "    console.log(`${index}: ${element}`);\n",
    "});"
   ]
  },
  {
   "cell_type": "markdown",
   "metadata": {},
   "source": [
    "### Map Elements to the Results of a Function"
   ]
  },
  {
   "cell_type": "code",
   "execution_count": 21,
   "metadata": {},
   "outputs": [
    {
     "name": "stdout",
     "output_type": "stream",
     "text": [
      "[ 0, 2, 4, 6 ]\n"
     ]
    }
   ],
   "source": [
    "let items = [0, 1, 2, 3];\n",
    "let all_doubled = items.map(ele => ele * 2);\n",
    "all_doubled"
   ]
  },
  {
   "cell_type": "markdown",
   "metadata": {},
   "source": [
    "### Filter Elements by a Function"
   ]
  },
  {
   "cell_type": "code",
   "execution_count": 22,
   "metadata": {},
   "outputs": [
    {
     "name": "stdout",
     "output_type": "stream",
     "text": [
      "[ 0, 2 ]\n"
     ]
    }
   ],
   "source": [
    "let items = [0, 1, 2, 3];\n",
    "let only_even = items.filter(ele => ele % 2 === 0);\n",
    "only_even"
   ]
  },
  {
   "cell_type": "markdown",
   "metadata": {},
   "source": [
    "### Reduce Elements by a Function to a Single Value"
   ]
  },
  {
   "cell_type": "code",
   "execution_count": 24,
   "metadata": {},
   "outputs": [
    {
     "name": "stdout",
     "output_type": "stream",
     "text": [
      "10\n"
     ]
    }
   ],
   "source": [
    "let items = [1, 2, 3, 4];\n",
    "let total = items.reduce((acc, curr, index, obj) => acc + curr, 0);\n",
    "total"
   ]
  },
  {
   "cell_type": "markdown",
   "metadata": {},
   "source": [
    "### Merge Dictionary"
   ]
  },
  {
   "cell_type": "code",
   "execution_count": 25,
   "metadata": {},
   "outputs": [
    {
     "name": "stdout",
     "output_type": "stream",
     "text": [
      "{ a: 'AAA', b: 'B', c: 'CCC' }\n"
     ]
    }
   ],
   "source": [
    "let d1 = {'a': 'A', 'b': 'B'};\n",
    "let d2 = {'a': 'AAA', 'c': 'CCC'};\n",
    "let merged = {...d1, ...d2};\n",
    "merged;"
   ]
  }
 ],
 "metadata": {
  "kernelspec": {
   "display_name": "JavaScript",
   "language": "javascript",
   "name": "jslab"
  },
  "language_info": {
   "file_extension": ".js",
   "mimetype": "text/javascript",
   "name": "javascript",
   "version": ""
  }
 },
 "nbformat": 4,
 "nbformat_minor": 4
}
