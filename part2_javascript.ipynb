{
 "cells": [
  {
   "cell_type": "markdown",
   "metadata": {},
   "source": [
    "# [Equivalents in Python and JavaScript. Part 2 ](https://djangotricks.blogspot.com/2018/07/equivalents-in-python-and-javascript-part-2.html)"
   ]
  },
  {
   "cell_type": "markdown",
   "metadata": {},
   "source": [
    "### JSON"
   ]
  },
  {
   "cell_type": "code",
   "execution_count": 11,
   "metadata": {},
   "outputs": [
    {
     "name": "stdout",
     "output_type": "stream",
     "text": [
      "{\n",
      "    \"a\": 1,\n",
      "    \"x\": \"great\"\n",
      "}\n",
      "{ a: 1, x: 'great' }\n"
     ]
    }
   ],
   "source": [
    "let d = {\n",
    "    a: 1,\n",
    "    x: 'great'\n",
    "};\n",
    "let j = JSON.stringify(d, null, 4)\n",
    "console.log(j)\n",
    "let json_data = JSON.parse(j)\n",
    "console.log(json_data)"
   ]
  },
  {
   "cell_type": "markdown",
   "metadata": {},
   "source": [
    "### Splitting Strings by Regular Expressions"
   ]
  },
  {
   "cell_type": "code",
   "execution_count": 31,
   "metadata": {},
   "outputs": [
    {
     "name": "stdout",
     "output_type": "stream",
     "text": [
      "[!?\\.]+\\s\n",
      "[ 'Hello', \"What's new\", 'Follow me.' ]\n"
     ]
    }
   ],
   "source": [
    "// One or more characters of \"!?.\" followed by whitespace\n",
    "let delimiter = /[!?\\.]+\\s/;\n",
    "// The folllowing works too. Note the use of String.raw`...`\n",
    "// let delimiter = new RegExp(String.raw`[!?\\.]+\\s`);\n",
    "// The following too works. Note to escape '\\'.\n",
    "// let delimiter = new RegExp(\"[!?\\\\.]+\\\\s\"); // note to \n",
    "// When you are no tsure which character to escapte when using new Regex('...'). print out the `source`.\n",
    "console.log(delimiter.source); // or just console.log(delimiter)\n",
    "let text = \"Hello!!! What's new? Follow me.\";\n",
    "text.split(delimiter);"
   ]
  },
  {
   "cell_type": "code",
   "execution_count": 32,
   "metadata": {},
   "outputs": [
    {
     "name": "stdout",
     "output_type": "stream",
     "text": [
      "[!?\\.]+\\s\n",
      "/[!?\\.]+\\s/\n"
     ]
    }
   ],
   "source": [
    "// To find out or confirm the regex pattern:\n",
    "console.log(delimiter.source); \n",
    "// or just\n",
    "console.log(delimiter); "
   ]
  },
  {
   "cell_type": "markdown",
   "metadata": {},
   "source": [
    "### Matching Regular Expression Patterns in Strings"
   ]
  },
  {
   "cell_type": "markdown",
   "metadata": {},
   "source": [
    "`RegExp.exec` executes a regex search against a string, returning a match (an array of information) or null."
   ]
  },
  {
   "cell_type": "code",
   "execution_count": 7,
   "metadata": {},
   "outputs": [
    {
     "name": "stdout",
     "output_type": "stream",
     "text": [
      "([\\w.+\\-]+)@([\\w\\-]+\\.[\\w\\-.]+)\n",
      "[\n",
      "  'h+i@exa-mple.com',\n",
      "  'h+i',\n",
      "  'exa-mple.com',\n",
      "  index: 9,\n",
      "  input: 'email is h+i@exa-mple.com or hi2@test-dm.com',\n",
      "  groups: undefined\n",
      "]\n"
     ]
    }
   ],
   "source": [
    "// validate email address\n",
    "// name, \"@\", domain\n",
    "const pattern = /([\\w.+\\-]+)@([\\w\\-]+\\.[\\w\\-.]+)/;\n",
    "const str = 'email is h+i@exa-mple.com or hi2@test-dm.com';\n",
    "console.log(pattern.source)\n",
    "let match = pattern.exec(str)\n",
    "match"
   ]
  },
  {
   "cell_type": "markdown",
   "metadata": {},
   "source": [
    "`exec` can be called in a while loop to get all matches.\n",
    "\n",
    "Warning: must provide /g flag to the RegExp pattern. Otherwise, the search index will not move ahead and the serach will go into an infinite loop."
   ]
  },
  {
   "cell_type": "code",
   "execution_count": 3,
   "metadata": {},
   "outputs": [
    {
     "name": "stdout",
     "output_type": "stream",
     "text": [
      "([\\w.+\\-]+)@([\\w\\-]+\\.[\\w\\-.]+)\n",
      "[\n",
      "  'h+i@exa-mple.com',\n",
      "  'h+i',\n",
      "  'exa-mple.com',\n",
      "  index: 9,\n",
      "  input: 'email is h+i@exa-mple.com or hi2@test-dm.com',\n",
      "  groups: undefined\n",
      "]\n",
      "[\n",
      "  'hi2@test-dm.com',\n",
      "  'hi2',\n",
      "  'test-dm.com',\n",
      "  index: 29,\n",
      "  input: 'email is h+i@exa-mple.com or hi2@test-dm.com',\n",
      "  groups: undefined\n",
      "]\n"
     ]
    }
   ],
   "source": [
    "const pattern = /([\\w.+\\-]+)@([\\w\\-]+\\.[\\w\\-.]+)/g;\n",
    "const str = 'email is h+i@exa-mple.com or hi2@test-dm.com';\n",
    "console.log(pattern.source);\n",
    "let match;\n",
    "while (match = pattern.exec(str)) {\n",
    "    console.log(match);\n",
    "}"
   ]
  },
  {
   "cell_type": "markdown",
   "metadata": {},
   "source": [
    "`String.match` is similar to `RegExp.exec`."
   ]
  },
  {
   "cell_type": "code",
   "execution_count": 5,
   "metadata": {},
   "outputs": [
    {
     "name": "stdout",
     "output_type": "stream",
     "text": [
      "([\\w.+\\-]+)@([\\w\\-]+\\.[\\w\\-.]+)\n",
      "[\n",
      "  'h+i@exa-mple.com',\n",
      "  'h+i',\n",
      "  'exa-mple.com',\n",
      "  index: 9,\n",
      "  input: 'email is h+i@exa-mple.com or hi2@test-dm.com',\n",
      "  groups: undefined\n",
      "]\n"
     ]
    }
   ],
   "source": [
    "const pattern = /([\\w.+\\-]+)@([\\w\\-]+\\.[\\w\\-.]+)/;\n",
    "const str = 'email is h+i@exa-mple.com or hi2@test-dm.com';\n",
    "console.log(pattern.source);\n",
    "let match = str.match(pattern)\n",
    "console.log(match)"
   ]
  },
  {
   "cell_type": "markdown",
   "metadata": {},
   "source": [
    "With `/g`, `String.match` returns an array of all matches, but without capturing groups."
   ]
  },
  {
   "cell_type": "code",
   "execution_count": 8,
   "metadata": {},
   "outputs": [
    {
     "name": "stdout",
     "output_type": "stream",
     "text": [
      "([\\w.+\\-]+)@([\\w\\-]+\\.[\\w\\-.]+)\n",
      "[ 'h+i@exa-mple.com', 'hi2@test-dm.com' ]\n"
     ]
    }
   ],
   "source": [
    "const pattern = /([\\w.+\\-]+)@([\\w\\-]+\\.[\\w\\-.]+)/g;\n",
    "const str = 'email is h+i@exa-mple.com or hi2@test-dm.com';\n",
    "console.log(pattern.source);\n",
    "let match = str.match(pattern)\n",
    "console.log(match)"
   ]
  },
  {
   "cell_type": "markdown",
   "metadata": {},
   "source": [
    "`String.matchAll` is similar to `String.match`, but includes capturing groups when search pattern has `/g`."
   ]
  },
  {
   "cell_type": "code",
   "execution_count": 7,
   "metadata": {},
   "outputs": [
    {
     "name": "stderr",
     "output_type": "stream",
     "text": [
      "4:17 - Property 'matchAll' does not exist on type '\"email is h+i@exa-mple.com or hi2@test-dm.com\"'.\n"
     ]
    }
   ],
   "source": [
    "const pattern = /([\\w.+\\-]+)@([\\w\\-]+\\.[\\w\\-.]+)/;\n",
    "const str = 'email is h+i@exa-mple.com or hi2@test-dm.com';\n",
    "console.log(pattern.source);\n",
    "let match = str.matchAll(pattern)\n",
    "console.log(match)\n",
    "console.log(Array.from(match))"
   ]
  },
  {
   "cell_type": "markdown",
   "metadata": {},
   "source": [
    "```\n",
    "Object [RegExp String Iterator] {}\n",
    "[\n",
    "  [\n",
    "    'h+i@exa-mple.com',\n",
    "    'h+i',\n",
    "    'exa-mple.com',\n",
    "    index: 9,\n",
    "    input: 'email is h+i@exa-mple.com or hi2@test-dm.com',\n",
    "    groups: undefined\n",
    "  ]\n",
    "]\n",
    "```"
   ]
  },
  {
   "cell_type": "code",
   "execution_count": 8,
   "metadata": {},
   "outputs": [
    {
     "name": "stderr",
     "output_type": "stream",
     "text": [
      "4:17 - Property 'matchAll' does not exist on type '\"email is h+i@exa-mple.com or hi2@test-dm.com\"'.\n"
     ]
    }
   ],
   "source": [
    "const pattern = /([\\w.+\\-]+)@([\\w\\-]+\\.[\\w\\-.]+)/g;\n",
    "const str = 'email is h+i@exa-mple.com or hi2@test-dm.com';\n",
    "console.log(pattern.source);\n",
    "let match = str.matchAll(pattern)\n",
    "console.log(match)\n",
    "console.log(Array.from(match))"
   ]
  },
  {
   "cell_type": "markdown",
   "metadata": {},
   "source": [
    "```\n",
    "Object [RegExp String Iterator] {}\n",
    "[\n",
    "  [\n",
    "    'h+i@exa-mple.com',\n",
    "    'h+i',\n",
    "    'exa-mple.com',\n",
    "    index: 9,\n",
    "    input: 'email is h+i@exa-mple.com or hi2@test-dm.com',\n",
    "    groups: undefined\n",
    "  ],\n",
    "  [\n",
    "    'hi2@test-dm.com',\n",
    "    'hi2',\n",
    "    'test-dm.com',\n",
    "    index: 29,\n",
    "    input: 'email is h+i@exa-mple.com or hi2@test-dm.com',\n",
    "    groups: undefined\n",
    "  ]\n",
    "]\n",
    "```"
   ]
  },
  {
   "cell_type": "markdown",
   "metadata": {},
   "source": [
    "To find the index of the matching pattern in the string, use `String.search` which returns the index of the first match or -1 for no match."
   ]
  },
  {
   "cell_type": "code",
   "execution_count": 1,
   "metadata": {},
   "outputs": [
    {
     "name": "stdout",
     "output_type": "stream",
     "text": [
      "6\n"
     ]
    }
   ],
   "source": [
    "'hello there'.search('there')"
   ]
  },
  {
   "cell_type": "markdown",
   "metadata": {},
   "source": [
    "Or get index from `index` of the resulting match array."
   ]
  },
  {
   "cell_type": "code",
   "execution_count": 18,
   "metadata": {},
   "outputs": [
    {
     "name": "stderr",
     "output_type": "stream",
     "text": [
      "3:17 - Property 'matchAll' does not exist on type '\"email is h+i@exa-mple.com or hi2@test-dm.com\"'.\n"
     ]
    }
   ],
   "source": [
    "const pattern = /([\\w.+\\-]+)@([\\w\\-]+\\.[\\w\\-.]+)/g;\n",
    "const str = 'email is h+i@exa-mple.com or hi2@test-dm.com';\n",
    "let match = str.matchAll(pattern)\n",
    "console.log(Array.from(match).map(ele => ele.index))"
   ]
  },
  {
   "cell_type": "markdown",
   "metadata": {},
   "source": [
    "[ 9, 29 ]"
   ]
  },
  {
   "cell_type": "markdown",
   "metadata": {},
   "source": [
    "### Replacing Pattern in Strings Using Regular Expressions"
   ]
  },
  {
   "cell_type": "markdown",
   "metadata": {},
   "source": [
    "Use `String.replace`."
   ]
  },
  {
   "cell_type": "code",
   "execution_count": 25,
   "metadata": {},
   "outputs": [
    {
     "name": "stdout",
     "output_type": "stream",
     "text": [
      "email is <a href=\"h+i@exa-mple.com\">h+i@exa-mple.com</a> or <a href=\"hi2@test-dm.com\">hi2@test-dm.com</a>\n"
     ]
    }
   ],
   "source": [
    "const pattern = /([\\w.+\\-]+)@([\\w\\-]+\\.[\\w\\-.]+)/g;\n",
    "const str = 'email is h+i@exa-mple.com or hi2@test-dm.com';\n",
    "let newString = str.replace(pattern, '<a href=\"$&\">$&</a>')\n",
    "newString"
   ]
  },
  {
   "cell_type": "markdown",
   "metadata": {},
   "source": [
    "Or, using a replacer function:"
   ]
  },
  {
   "cell_type": "code",
   "execution_count": 26,
   "metadata": {},
   "outputs": [
    {
     "name": "stdout",
     "output_type": "stream",
     "text": [
      "email is <a href=\"h+i@exa-mple.com\">h+i@exa-mple.com</a> or <a href=\"hi2@test-dm.com\">hi2@test-dm.com</a>\n"
     ]
    }
   ],
   "source": [
    "const pattern = /([\\w.+\\-]+)@([\\w\\-]+\\.[\\w\\-.]+)/g;\n",
    "const str = 'email is h+i@exa-mple.com or hi2@test-dm.com';\n",
    "let newString = str.replace(pattern, (match, p1, p2, offset, string) => {\n",
    "    return `<a href=\"${match}\">${match}</a>`\n",
    "})\n",
    "newString"
   ]
  },
  {
   "cell_type": "markdown",
   "metadata": {},
   "source": [
    "### Error Handling"
   ]
  },
  {
   "cell_type": "code",
   "execution_count": 30,
   "metadata": {},
   "outputs": [
    {
     "name": "stdout",
     "output_type": "stream",
     "text": [
      "Error: Error happened\n",
      "Completed.\n"
     ]
    }
   ],
   "source": [
    "function proceed() {\n",
    "    throw new Error('Error happened');\n",
    "}\n",
    "\n",
    "try {\n",
    "    proceed();\n",
    "}\n",
    "catch (e) {\n",
    "    console.log(`Error: ${e.message}`);\n",
    "}\n",
    "finally {\n",
    "    console.log('Completed.')\n",
    "}"
   ]
  },
  {
   "cell_type": "code",
   "execution_count": 36,
   "metadata": {},
   "outputs": [
    {
     "name": "stdout",
     "output_type": "stream",
     "text": [
      "Error: Error happened\n",
      "Completed.\n"
     ]
    }
   ],
   "source": [
    "function MyException(message) {\n",
    "    this.message = message\n",
    "}\n",
    "MyException.prototype.toString = function() {\n",
    "    return this.message;\n",
    "};\n",
    "\n",
    "function proceed() {\n",
    "    throw new MyException('Error happened');\n",
    "}\n",
    "\n",
    "try {\n",
    "    proceed();\n",
    "}\n",
    "catch (e) {\n",
    "    console.log(`Error: ${e.message}`);\n",
    "}\n",
    "finally {\n",
    "    console.log('Completed.')\n",
    "}"
   ]
  },
  {
   "cell_type": "code",
   "execution_count": 38,
   "metadata": {},
   "outputs": [
    {
     "name": "stdout",
     "output_type": "stream",
     "text": [
      "Error: Error happened\n",
      "Completed.\n"
     ]
    }
   ],
   "source": [
    "class MyException {\n",
    "    constructor(message) {\n",
    "        this.message = message;\n",
    "    }\n",
    "    toString() {\n",
    "        return this.message;\n",
    "    }\n",
    "}\n",
    "\n",
    "function proceed() {\n",
    "    throw new MyException('Error happened');\n",
    "}\n",
    "\n",
    "try {\n",
    "    proceed();\n",
    "}\n",
    "catch (e) {\n",
    "    console.log(`Error: ${e.message}`);\n",
    "}\n",
    "finally {\n",
    "    console.log('Completed.')\n",
    "}"
   ]
  }
 ],
 "metadata": {
  "kernelspec": {
   "display_name": "JavaScript",
   "language": "javascript",
   "name": "jslab"
  },
  "language_info": {
   "file_extension": ".js",
   "mimetype": "text/javascript",
   "name": "javascript",
   "version": ""
  }
 },
 "nbformat": 4,
 "nbformat_minor": 4
}
