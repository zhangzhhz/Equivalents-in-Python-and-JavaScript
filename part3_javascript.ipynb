{
 "cells": [
  {
   "cell_type": "markdown",
   "metadata": {},
   "source": [
    "# [Equivalents in Python and JavaScript. Part 3](https://djangotricks.blogspot.com/2018/07/equivalents-in-python-and-javascript-part-3.html)"
   ]
  },
  {
   "cell_type": "markdown",
   "metadata": {},
   "source": [
    "### Variables in Strings"
   ]
  },
  {
   "cell_type": "markdown",
   "metadata": {},
   "source": [
    "string template"
   ]
  },
  {
   "cell_type": "code",
   "execution_count": 9,
   "metadata": {},
   "outputs": [
    {
     "name": "stdout",
     "output_type": "stream",
     "text": [
      "Hello, World!\n",
      "Welcome!\n",
      "Price: 14.90\n"
     ]
    }
   ],
   "source": [
    "let name = 'World';\n",
    "let value = `Hello, ${name}!\n",
    "Welcome!`;\n",
    "console.log(value);\n",
    "\n",
    "let price = 14.9;\n",
    "value = `Price: ${price.toFixed(2)}`;\n",
    "console.log(value);"
   ]
  },
  {
   "cell_type": "markdown",
   "metadata": {},
   "source": [
    "### Unpacking Lists"
   ]
  },
  {
   "cell_type": "code",
   "execution_count": 10,
   "metadata": {},
   "outputs": [
    {
     "name": "stdout",
     "output_type": "stream",
     "text": [
      "1 2 3\n"
     ]
    }
   ],
   "source": [
    "let [a, b, c] = [1, 2, 3];\n",
    "console.log(a, b, c);"
   ]
  },
  {
   "cell_type": "code",
   "execution_count": 11,
   "metadata": {},
   "outputs": [
    {
     "name": "stdout",
     "output_type": "stream",
     "text": [
      "2 1\n"
     ]
    }
   ],
   "source": [
    "// swapping variables\n",
    "let a = 1;\n",
    "let b = 2;\n",
    "[a, b] = [b, a];\n",
    "console.log(a, b);"
   ]
  },
  {
   "cell_type": "code",
   "execution_count": 14,
   "metadata": {},
   "outputs": [
    {
     "name": "stdout",
     "output_type": "stream",
     "text": [
      "1\n",
      "2\n",
      "[ 3, 4, 5 ]\n",
      "3 4 5\n"
     ]
    }
   ],
   "source": [
    "let [first, second, ...rest] = [1, 2, 3, 4, 5];\n",
    "console.log(first);\n",
    "console.log(second);\n",
    "console.log(rest);\n",
    "console.log(...rest);"
   ]
  },
  {
   "cell_type": "markdown",
   "metadata": {},
   "source": [
    "### Lambda Functions"
   ]
  },
  {
   "cell_type": "code",
   "execution_count": 16,
   "metadata": {},
   "outputs": [],
   "source": [
    "let sum = (x, y) => x + y;\n",
    "let square = x => x ** 2;"
   ]
  },
  {
   "cell_type": "markdown",
   "metadata": {},
   "source": [
    "### Iteration Without Indexes"
   ]
  },
  {
   "cell_type": "code",
   "execution_count": 21,
   "metadata": {},
   "outputs": [
    {
     "name": "stdout",
     "output_type": "stream",
     "text": [
      "A\n",
      "B\n",
      "C\n"
     ]
    }
   ],
   "source": [
    "for (let item of ['A', 'B', 'C']) {\n",
    "    console.log(item);\n",
    "}"
   ]
  },
  {
   "cell_type": "markdown",
   "metadata": {},
   "source": [
    "Note the difference between `for..in` and `for..of`. `for..in..` iterates thought keys or indexes, `for..of` iterates through values."
   ]
  },
  {
   "cell_type": "code",
   "execution_count": 23,
   "metadata": {},
   "outputs": [
    {
     "name": "stdout",
     "output_type": "stream",
     "text": [
      "0\n",
      "1\n",
      "2\n"
     ]
    }
   ],
   "source": [
    "for (let idx in ['A', 'B', 'C']) {\n",
    "    console.log(idx);\n",
    "}"
   ]
  },
  {
   "cell_type": "code",
   "execution_count": 28,
   "metadata": {},
   "outputs": [
    {
     "name": "stdout",
     "output_type": "stream",
     "text": [
      "a\n",
      "b\n",
      "c\n"
     ]
    }
   ],
   "source": [
    "let o = {\n",
    "    a: 'A',\n",
    "    b: 'B',\n",
    "    c: 'C'\n",
    "};\n",
    "for (let key in o) {\n",
    "    console.log(key);\n",
    "}"
   ]
  },
  {
   "cell_type": "markdown",
   "metadata": {},
   "source": [
    "`for..of` does not work on variables that are not iterables. For example, the following does not work:"
   ]
  },
  {
   "cell_type": "code",
   "execution_count": 29,
   "metadata": {},
   "outputs": [
    {
     "name": "stderr",
     "output_type": "stream",
     "text": [
      "6:17 - Type '{ a: string; b: string; c: string; }' must have a '[Symbol.iterator]()' method that returns an iterator.\n"
     ]
    }
   ],
   "source": [
    "let o = {\n",
    "    a: 'A',\n",
    "    b: 'B',\n",
    "    c: 'C'\n",
    "};\n",
    "for (let val of o) {\n",
    "    console.log(val);\n",
    "}"
   ]
  },
  {
   "cell_type": "markdown",
   "metadata": {},
   "source": [
    "### Generators"
   ]
  },
  {
   "cell_type": "code",
   "execution_count": 33,
   "metadata": {},
   "outputs": [
    {
     "name": "stdout",
     "output_type": "stream",
     "text": [
      "10\n",
      "9\n",
      "8\n",
      "7\n",
      "6\n",
      "5\n",
      "4\n",
      "3\n",
      "2\n",
      "1\n"
     ]
    }
   ],
   "source": [
    "function* countdown(counter) {\n",
    "    while (counter > 0) {\n",
    "        yield counter;\n",
    "        counter -= 1;\n",
    "    }\n",
    "}\n",
    "\n",
    "for (let counter of countdown(10)) {\n",
    "    console.log(counter);\n",
    "}"
   ]
  },
  {
   "cell_type": "markdown",
   "metadata": {},
   "source": [
    "### Sets"
   ]
  },
  {
   "cell_type": "code",
   "execution_count": 55,
   "metadata": {},
   "outputs": [
    {
     "name": "stderr",
     "output_type": "stream",
     "text": [
      "3:7 - Argument of type '100' is not assignable to parameter of type 'string'.\n",
      "4:7 - Argument of type '1' is not assignable to parameter of type 'string'.\n",
      "5:7 - Argument of type '3' is not assignable to parameter of type 'string'.\n",
      "6:7 - Argument of type '1' is not assignable to parameter of type 'string'.\n",
      "9:19 - Argument of type '100' is not assignable to parameter of type 'string'.\n",
      "10:10 - Argument of type '100' is not assignable to parameter of type 'string'.\n"
     ]
    }
   ],
   "source": [
    "// the following 2 lines do not work in tslab kernel for jupyter\n",
    "let s = new Set(['A'])\n",
    "s.add(100);\n",
    "s.add(1);\n",
    "s.add(3);\n",
    "s.add(1);\n",
    "console.log(s);\n",
    "console.log(s.size);\n",
    "console.log(s.has(100));\n",
    "s.delete(100);\n",
    "console.log(s);\n",
    "for (let e of s.values()) {\n",
    "    console.log(`  ${e}`);\n",
    "}"
   ]
  },
  {
   "cell_type": "markdown",
   "metadata": {},
   "source": [
    "```\n",
    ">node\n",
    "Welcome to Node.js v13.8.0.\n",
    "Type \".help\" for more information.\n",
    "> let s = new Set(['A'])\n",
    "undefined\n",
    "> s.add(100);\n",
    "Set(2) { 'A', 100 }\n",
    "> s.add(1);\n",
    "Set(3) { 'A', 100, 1 }\n",
    "> s.add(3);\n",
    "Set(4) { 'A', 100, 1, 3 }\n",
    "> s.add(1);\n",
    "Set(4) { 'A', 100, 1, 3 }\n",
    "> console.log(s);\n",
    "Set(4) { 'A', 100, 1, 3 }\n",
    "undefined\n",
    "> console.log(s.size);\n",
    "4\n",
    "undefined\n",
    "> console.log(s.has(100));\n",
    "true\n",
    "undefined\n",
    "> s.delete(100);\n",
    "true\n",
    "> console.log(s);\n",
    "Set(3) { 'A', 1, 3 }\n",
    "undefined\n",
    "> for (let e of s.values()) {\n",
    "...     console.log(`  ${e}`);\n",
    "... }\n",
    "  A\n",
    "  1\n",
    "  3\n",
    "undefined\n",
    "```"
   ]
  }
 ],
 "metadata": {
  "kernelspec": {
   "display_name": "JavaScript",
   "language": "javascript",
   "name": "jslab"
  },
  "language_info": {
   "file_extension": ".js",
   "mimetype": "text/javascript",
   "name": "javascript",
   "version": ""
  }
 },
 "nbformat": 4,
 "nbformat_minor": 4
}
