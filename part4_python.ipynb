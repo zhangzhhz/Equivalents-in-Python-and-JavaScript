{
 "cells": [
  {
   "cell_type": "markdown",
   "metadata": {},
   "source": [
    "# [Equivalents in Python and JavaScript. Part 4](https://djangotricks.blogspot.com/2018/07/equivalents-in-python-and-javascript-part-4.html)"
   ]
  },
  {
   "cell_type": "markdown",
   "metadata": {},
   "source": [
    "### Function Arguments"
   ]
  },
  {
   "cell_type": "markdown",
   "metadata": {},
   "source": [
    "default values:"
   ]
  },
  {
   "cell_type": "code",
   "execution_count": 1,
   "metadata": {},
   "outputs": [
    {
     "name": "stdout",
     "output_type": "stream",
     "text": [
      "{'post_id': 42, 'reason': 'not-relevant'}\n",
      "{'post_id': 42, 'reason': 'spam'}\n"
     ]
    }
   ],
   "source": [
    "def report(post_id, reason='not-relevant'):\n",
    "    print({'post_id': post_id, 'reason': reason})\n",
    "\n",
    "report(42)\n",
    "report(post_id=42, reason='spam')"
   ]
  },
  {
   "cell_type": "markdown",
   "metadata": {},
   "source": [
    "positional arguments:"
   ]
  },
  {
   "cell_type": "code",
   "execution_count": 2,
   "metadata": {},
   "outputs": [
    {
     "name": "stdout",
     "output_type": "stream",
     "text": [
      "{'post_id': 42, 'tags': ('python', 'javascript', 'hello world')}\n"
     ]
    }
   ],
   "source": [
    "def add_tags(post_id, *tags):\n",
    "    print({'post_id': post_id, 'tags': tags})\n",
    "    \n",
    "add_tags(42, 'python', 'javascript', 'hello world')"
   ]
  },
  {
   "cell_type": "markdown",
   "metadata": {},
   "source": [
    "keyword arguments:"
   ]
  },
  {
   "cell_type": "code",
   "execution_count": 10,
   "metadata": {},
   "outputs": [
    {
     "name": "stdout",
     "output_type": "stream",
     "text": [
      "{'title': 'Hello, World!', 'content': 'This is our first post.', 'is_published': True}\n"
     ]
    }
   ],
   "source": [
    "def create_post(**options):\n",
    "    print(options)\n",
    "    \n",
    "create_post(\n",
    "    title='Hello, World!', \n",
    "    content='This is our first post.',\n",
    "    is_published=True,\n",
    ")"
   ]
  },
  {
   "cell_type": "markdown",
   "metadata": {},
   "source": [
    "### Classes and Inheritance"
   ]
  },
  {
   "cell_type": "code",
   "execution_count": 11,
   "metadata": {},
   "outputs": [
    {
     "name": "stdout",
     "output_type": "stream",
     "text": [
      "True\n",
      "Hello World!\n"
     ]
    }
   ],
   "source": [
    "class Post:\n",
    "    def __init__(self, id, title):\n",
    "        self.id = id\n",
    "        self.title = title\n",
    "    \n",
    "    def __str__(self):\n",
    "        return self.title\n",
    "\n",
    "post = Post(42, 'Hello World!')\n",
    "print(isinstance(post, Post))\n",
    "print(post)"
   ]
  },
  {
   "cell_type": "code",
   "execution_count": 13,
   "metadata": {},
   "outputs": [
    {
     "name": "stdout",
     "output_type": "stream",
     "text": [
      "True\n",
      "True\n",
      "Hello, World!\n",
      "DjangoTricks (https://djangotricks.blogspot.com)\n"
     ]
    }
   ],
   "source": [
    "class Article(Post):\n",
    "    def __init__(self, id, title, content):\n",
    "        super().__init__(id, title)\n",
    "        self.content = content\n",
    "    \n",
    "class Link(Post):\n",
    "    def __init__(self, id, title, url):\n",
    "        super().__init__(id, title)\n",
    "        self.url = url\n",
    "        \n",
    "    def __str__(self):\n",
    "        return f'{super().__str__()} ({self.url})'\n",
    "\n",
    "article = Article(1, 'Hello, World!', 'This is my first article.')\n",
    "link = Link(2, 'DjangoTricks', 'https://djangotricks.blogspot.com')\n",
    "print(isinstance(article, Post))\n",
    "print(isinstance(link, Post))\n",
    "print(article)\n",
    "print(link)"
   ]
  },
  {
   "cell_type": "markdown",
   "metadata": {},
   "source": [
    "### Class Properties: Getters and Setters"
   ]
  },
  {
   "cell_type": "code",
   "execution_count": 17,
   "metadata": {},
   "outputs": [
    {
     "name": "stdout",
     "output_type": "stream",
     "text": [
      "True\n",
      "\n",
      "Hello World! (hello-world)\n"
     ]
    }
   ],
   "source": [
    "class Post:\n",
    "    def __init__(self, id, title):\n",
    "        self.id = id\n",
    "        self.title = title\n",
    "        self._slug = ''\n",
    "        \n",
    "    @property\n",
    "    def slug(self):\n",
    "        return self._slug\n",
    "    \n",
    "    @slug.setter\n",
    "    def slug(self, value):\n",
    "        self._slug = value\n",
    "    \n",
    "    \n",
    "    def __str__(self):\n",
    "        return f'{self.title} ({self.slug})'\n",
    "\n",
    "post = Post(42, 'Hello World!')\n",
    "print(isinstance(post, Post))\n",
    "print(post.slug)\n",
    "post.slug = 'hello-world'\n",
    "print(post)"
   ]
  }
 ],
 "metadata": {
  "kernelspec": {
   "display_name": "Python 3",
   "language": "python",
   "name": "python3"
  },
  "language_info": {
   "codemirror_mode": {
    "name": "ipython",
    "version": 3
   },
   "file_extension": ".py",
   "mimetype": "text/x-python",
   "name": "python",
   "nbconvert_exporter": "python",
   "pygments_lexer": "ipython3",
   "version": "3.8.2"
  }
 },
 "nbformat": 4,
 "nbformat_minor": 4
}
