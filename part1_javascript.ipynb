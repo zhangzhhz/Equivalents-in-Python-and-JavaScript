{
 "cells": [
  {
   "cell_type": "markdown",
   "metadata": {},
   "source": [
    "# [Equivalents in Python and JavaScript. Part 1 ](https://djangotricks.blogspot.com/2018/06/equivalents-in-python-and-javascript-part-1.html)"
   ]
  },
  {
   "cell_type": "markdown",
   "metadata": {},
   "source": [
    "### Parsing Integers"
   ]
  },
  {
   "cell_type": "code",
   "execution_count": 5,
   "metadata": {},
   "outputs": [
    {
     "name": "stdout",
     "output_type": "stream",
     "text": [
      "12\n"
     ]
    }
   ],
   "source": [
    "let text = \"12\"\n",
    "let number = parseInt(text, 10)\n",
    "number"
   ]
  },
  {
   "cell_type": "markdown",
   "metadata": {},
   "source": [
    "### Conditional Assignment"
   ]
  },
  {
   "cell_type": "code",
   "execution_count": 6,
   "metadata": {},
   "outputs": [
    {
     "name": "stdout",
     "output_type": "stream",
     "text": [
      "ADULT\n"
     ]
    }
   ],
   "source": [
    "let age = 20\n",
    "let value = age >= 18 ? 'ADULT' : 'CHILD'\n",
    "value"
   ]
  },
  {
   "cell_type": "markdown",
   "metadata": {},
   "source": [
    "### Object Attribute Value by Attribute Name"
   ]
  },
  {
   "cell_type": "code",
   "execution_count": 10,
   "metadata": {},
   "outputs": [
    {
     "name": "stdout",
     "output_type": "stream",
     "text": [
      "YELLOW\n"
     ]
    }
   ],
   "source": [
    "let obj = {\n",
    "    color: 'YELLOW'\n",
    "}\n",
    "obj.color"
   ]
  },
  {
   "cell_type": "code",
   "execution_count": 13,
   "metadata": {},
   "outputs": [
    {
     "name": "stdout",
     "output_type": "stream",
     "text": [
      "color: BLUE\n"
     ]
    }
   ],
   "source": [
    "let attrib = 'color'\n",
    "obj[attrib] = 'BLUE'\n",
    "attrib + \": \" + (obj[attrib] || 'DEFAULT COLOR')"
   ]
  },
  {
   "cell_type": "markdown",
   "metadata": {},
   "source": [
    "### Dictionary Value by Key"
   ]
  },
  {
   "cell_type": "code",
   "execution_count": 14,
   "metadata": {},
   "outputs": [
    {
     "name": "stdout",
     "output_type": "stream",
     "text": [
      "{ color: 'YELLOW' }\n"
     ]
    }
   ],
   "source": [
    "let d = {}\n",
    "d.color = 'YELLOW'\n",
    "d"
   ]
  },
  {
   "cell_type": "code",
   "execution_count": 15,
   "metadata": {},
   "outputs": [
    {
     "name": "stdout",
     "output_type": "stream",
     "text": [
      "YELLOW\n"
     ]
    }
   ],
   "source": [
    "let key = 'color'\n",
    "d[key] || \"DEFAULT COLOR\""
   ]
  },
  {
   "cell_type": "markdown",
   "metadata": {},
   "source": [
    "### Slicing Lists and Strings"
   ]
  },
  {
   "cell_type": "code",
   "execution_count": 21,
   "metadata": {},
   "outputs": [
    {
     "name": "stdout",
     "output_type": "stream",
     "text": [
      "[ 1, 2 ] [ 4, 5 ] [ 2, 3, 4 ]\n"
     ]
    }
   ],
   "source": [
    "let items = [1, 2, 3, 4, 5]\n",
    "let first_two = items.slice(0, 2)\n",
    "let last_two = items.slice(-2)\n",
    "let middle_three = items.slice(1, 4)\n",
    "console.log(first_two, last_two, middle_three)"
   ]
  },
  {
   "cell_type": "code",
   "execution_count": 22,
   "metadata": {},
   "outputs": [
    {
     "name": "stdout",
     "output_type": "stream",
     "text": [
      "AB DE BCD\n"
     ]
    }
   ],
   "source": [
    "let text = 'ABCDE'\n",
    "let first_two = text.slice(0, 2)\n",
    "let last_two = text.slice(-2)\n",
    "let middle_three = text.slice(1, 4)\n",
    "console.log(first_two, last_two, middle_three)"
   ]
  },
  {
   "cell_type": "markdown",
   "metadata": {},
   "source": [
    "### Operation with List Items"
   ]
  },
  {
   "cell_type": "code",
   "execution_count": 30,
   "metadata": {},
   "outputs": [
    {
     "name": "stdout",
     "output_type": "stream",
     "text": [
      "[ 'A', 'B' ]\n",
      "[ 'D', 'A', 'B', 'C' ]\n",
      "C\n",
      "D\n",
      "[ 'A', 'B' ]\n",
      "[ 'B' ]\n"
     ]
    }
   ],
   "source": [
    "let items1 = ['A']\n",
    "let items2 = ['B']\n",
    "// concatenate array\n",
    "let items = items1.concat(items2)\n",
    "console.log(items)\n",
    "// add items to the end and the beginning\n",
    "items.push('C')\n",
    "items.unshift('D')\n",
    "console.log(items)\n",
    "// remove item from end and the beginning\n",
    "console.log(items.pop())\n",
    "console.log(items.shift())\n",
    "console.log(items)\n",
    "// delete an item\n",
    "items.splice(0, 1)\n",
    "console.log(items)"
   ]
  },
  {
   "cell_type": "markdown",
   "metadata": {},
   "source": [
    "### Joining Lists of Strings"
   ]
  },
  {
   "cell_type": "code",
   "execution_count": 33,
   "metadata": {},
   "outputs": [
    {
     "name": "stdout",
     "output_type": "stream",
     "text": [
      "A,B,C string\n"
     ]
    }
   ],
   "source": [
    "let items = ['A', 'B', 'C']\n",
    "let text = items.join(',')\n",
    "console.log(text, typeof text)"
   ]
  },
  {
   "cell_type": "code",
   "execution_count": 34,
   "metadata": {},
   "outputs": [
    {
     "name": "stdout",
     "output_type": "stream",
     "text": [
      "[ 'A', 'B', 'C' ]\n"
     ]
    }
   ],
   "source": [
    "text.split(',')"
   ]
  }
 ],
 "metadata": {
  "kernelspec": {
   "display_name": "JavaScript",
   "language": "javascript",
   "name": "jslab"
  },
  "language_info": {
   "file_extension": ".js",
   "mimetype": "text/javascript",
   "name": "javascript",
   "version": ""
  }
 },
 "nbformat": 4,
 "nbformat_minor": 4
}
