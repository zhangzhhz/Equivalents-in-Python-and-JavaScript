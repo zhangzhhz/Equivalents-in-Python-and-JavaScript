{
 "cells": [
  {
   "cell_type": "markdown",
   "metadata": {},
   "source": [
    "# [Equivalents in Python and JavaScript. Part 2 ](https://djangotricks.blogspot.com/2018/07/equivalents-in-python-and-javascript-part-2.html)"
   ]
  },
  {
   "cell_type": "markdown",
   "metadata": {},
   "source": [
    "### JSON"
   ]
  },
  {
   "cell_type": "code",
   "execution_count": 12,
   "metadata": {},
   "outputs": [
    {
     "name": "stdout",
     "output_type": "stream",
     "text": [
      "{\n",
      "    \"a\": 1,\n",
      "    \"x\": \"great\"\n",
      "}\n",
      "{'a': 1, 'x': 'great'}\n"
     ]
    }
   ],
   "source": [
    "import json\n",
    "\n",
    "d = {\n",
    "    \"a\": 1,\n",
    "    \"x\": \"great\"\n",
    "}\n",
    "j = json.dumps(d, indent=4)\n",
    "print(j)\n",
    "json_data = json.loads(j)\n",
    "print(json_data)"
   ]
  },
  {
   "cell_type": "markdown",
   "metadata": {},
   "source": [
    "### Splitting Strings by Regular Expressions"
   ]
  },
  {
   "cell_type": "code",
   "execution_count": 17,
   "metadata": {},
   "outputs": [
    {
     "data": {
      "text/plain": [
       "['Hello', \"What's new\", 'Follow me.']"
      ]
     },
     "execution_count": 17,
     "metadata": {},
     "output_type": "execute_result"
    }
   ],
   "source": [
    "import re\n",
    "\n",
    "# One or more characters of \"!?.\" followed by whitespace\n",
    "delimiter = re.compile(r'[!?\\.]+\\s')\n",
    "text = \"Hello!!! What's new? Follow me.\"\n",
    "delimiter.split(text)"
   ]
  },
  {
   "cell_type": "code",
   "execution_count": 143,
   "metadata": {},
   "outputs": [
    {
     "name": "stdout",
     "output_type": "stream",
     "text": [
      "[!?\\.]+\\s\n"
     ]
    }
   ],
   "source": [
    "# To find out or confirm the regex pattern:\n",
    "print(delimiter.pattern)"
   ]
  },
  {
   "cell_type": "markdown",
   "metadata": {},
   "source": [
    "### Matching Regular Expression Patterns in Strings"
   ]
  },
  {
   "cell_type": "markdown",
   "metadata": {},
   "source": [
    "`re.match` finds the pattern at the **beginning** of a string.\n",
    "\n",
    "`re.search` finds the pattern anywhere in a string."
   ]
  },
  {
   "cell_type": "code",
   "execution_count": 5,
   "metadata": {},
   "outputs": [],
   "source": [
    "import re"
   ]
  },
  {
   "cell_type": "code",
   "execution_count": 8,
   "metadata": {},
   "outputs": [
    {
     "name": "stdout",
     "output_type": "stream",
     "text": [
      "<re.Match object; span=(0, 16), match='h+i@exa-mple.com'>\n"
     ]
    },
    {
     "data": {
      "text/plain": [
       "('h+i@exa-mple.com', 'h+i@exa-mple.com', 'h+i', 'exa-mple.com')"
      ]
     },
     "execution_count": 8,
     "metadata": {},
     "output_type": "execute_result"
    }
   ],
   "source": [
    "# validate email address\n",
    "# name, \"@\", domain\n",
    "pattern = re.compile(r'([\\w.+\\-]+)@([\\w\\-]+\\.[\\w\\-.]+)')\n",
    "# print(pattern.pattern)\n",
    "match = pattern.match('h+i@exa-mple.com or hi2@test-dm.com')\n",
    "print(match)\n",
    "match.group(), match.group(0), match.group(1), match.group(2)"
   ]
  },
  {
   "cell_type": "code",
   "execution_count": 9,
   "metadata": {},
   "outputs": [
    {
     "name": "stdout",
     "output_type": "stream",
     "text": [
      "<re.Match object; span=(9, 25), match='h+i@exa-mple.com'>\n",
      "h+i@exa-mple.com h+i@exa-mple.com h+i exa-mple.com\n"
     ]
    }
   ],
   "source": [
    "pattern = re.compile(r'([\\w.+\\-]+)@([\\w\\-]+\\.[\\w\\-.]+)')\n",
    "# print(pattern.pattern)\n",
    "match = pattern.search('email is h+i@exa-mple.com or hi2@test-dm.com')\n",
    "print(match)\n",
    "print(match.group(), match.group(0), match.group(1), match.group(2))"
   ]
  },
  {
   "cell_type": "code",
   "execution_count": 10,
   "metadata": {},
   "outputs": [
    {
     "data": {
      "text/plain": [
       "('h+i', 'exa-mple.com')"
      ]
     },
     "execution_count": 10,
     "metadata": {},
     "output_type": "execute_result"
    }
   ],
   "source": [
    "match.groups()"
   ]
  },
  {
   "cell_type": "markdown",
   "metadata": {},
   "source": [
    "To find all matches, use `re.findall` or `re.finditer`."
   ]
  },
  {
   "cell_type": "markdown",
   "metadata": {},
   "source": [
    "`re.findall` returns an array of `groups()`"
   ]
  },
  {
   "cell_type": "code",
   "execution_count": 147,
   "metadata": {},
   "outputs": [
    {
     "name": "stdout",
     "output_type": "stream",
     "text": [
      "[('h+i', 'exa-mple.com'), ('hi2', 'test-dm.com')]\n",
      "('h+i', 'exa-mple.com')\n",
      "('hi2', 'test-dm.com')\n"
     ]
    }
   ],
   "source": [
    "searchResult = pattern.findall('email is h+i@exa-mple.com or hi2@test-dm.com')\n",
    "print(searchResult)\n",
    "for rslt in searchResult:\n",
    "    print(rslt) // this prints `groups()`"
   ]
  },
  {
   "cell_type": "markdown",
   "metadata": {},
   "source": [
    "`re.finditer` returns an array of match objects."
   ]
  },
  {
   "cell_type": "code",
   "execution_count": 149,
   "metadata": {},
   "outputs": [
    {
     "name": "stdout",
     "output_type": "stream",
     "text": [
      "<callable_iterator object at 0x7fe707ffaeb0>\n",
      "<re.Match object; span=(9, 25), match='h+i@exa-mple.com'> ('h+i', 'exa-mple.com')\n",
      "<re.Match object; span=(29, 44), match='hi2@test-dm.com'> ('hi2', 'test-dm.com')\n"
     ]
    }
   ],
   "source": [
    "searchResult = pattern.finditer('email is h+i@exa-mple.com or hi2@test-dm.com')\n",
    "print(searchResult)\n",
    "for rslt in searchResult:\n",
    "    print(rslt, rslt.groups())"
   ]
  },
  {
   "cell_type": "markdown",
   "metadata": {},
   "source": [
    "To find the index of the matching pattern in the string, look at functions `span()`, `start()` of the resulting match object."
   ]
  },
  {
   "cell_type": "code",
   "execution_count": 23,
   "metadata": {},
   "outputs": [
    {
     "data": {
      "text/plain": [
       "(9, 25, (9, 25))"
      ]
     },
     "execution_count": 23,
     "metadata": {},
     "output_type": "execute_result"
    }
   ],
   "source": [
    "pattern = re.compile(r'([\\w.+\\-]+)@([\\w\\-]+\\.[\\w\\-.]+)')\n",
    "# print(pattern.pattern)\n",
    "match = pattern.search('email is h+i@exa-mple.com or hi2@test-dm.com')\n",
    "match.start(), match.end(), match.span()"
   ]
  },
  {
   "cell_type": "code",
   "execution_count": 37,
   "metadata": {},
   "outputs": [
    {
     "data": {
      "text/plain": [
       "[(9, 25, (9, 25)), (29, 44, (29, 44))]"
      ]
     },
     "execution_count": 37,
     "metadata": {},
     "output_type": "execute_result"
    }
   ],
   "source": [
    "pattern = re.compile(r'([\\w.+\\-]+)@([\\w\\-]+\\.[\\w\\-.]+)')\n",
    "# print(pattern.pattern)\n",
    "match = pattern.finditer('email is h+i@exa-mple.com or hi2@test-dm.com')\n",
    "[(m.start(), m.end(), m.span()) for m in match]"
   ]
  },
  {
   "cell_type": "markdown",
   "metadata": {},
   "source": [
    "### Replacing Pattern in Strings Using Regular Expressions"
   ]
  },
  {
   "cell_type": "markdown",
   "metadata": {},
   "source": [
    "Use `re.sub`. `re.sub` replaces all matches by default."
   ]
  },
  {
   "cell_type": "code",
   "execution_count": 39,
   "metadata": {},
   "outputs": [
    {
     "data": {
      "text/plain": [
       "'email is <a href=\"mailto:h+i@exa-mple.com\">h+i@exa-mple.com</a> or <a href=\"mailto:hi2@test-dm.com\">hi2@test-dm.com</a>'"
      ]
     },
     "execution_count": 39,
     "metadata": {},
     "output_type": "execute_result"
    }
   ],
   "source": [
    "pattern = re.compile(r'([\\w.+\\-]+)@([\\w\\-]+\\.[\\w\\-.]+)')\n",
    "new_str = pattern.sub(r'<a href=\"mailto:\\g<0>\">\\g<0></a>', 'email is h+i@exa-mple.com or hi2@test-dm.com')\n",
    "new_str"
   ]
  },
  {
   "cell_type": "markdown",
   "metadata": {},
   "source": [
    "Or, using a replace function:"
   ]
  },
  {
   "cell_type": "code",
   "execution_count": 43,
   "metadata": {},
   "outputs": [
    {
     "data": {
      "text/plain": [
       "'email is <a href=\"mailto:h+i@exa-mple.com\">h+i@exa-mple.com</a> or <a href=\"mailto:hi2@test-dm.com\">hi2@test-dm.com</a>'"
      ]
     },
     "execution_count": 43,
     "metadata": {},
     "output_type": "execute_result"
    }
   ],
   "source": [
    "pattern = re.compile(r'([\\w.+\\-]+)@([\\w\\-]+\\.[\\w\\-.]+)')\n",
    "new_str = pattern.sub(lambda match: f'<a href=\"mailto:{match.group(0)}\">{match.group(0)}</a>', 'email is h+i@exa-mple.com or hi2@test-dm.com')\n",
    "new_str"
   ]
  },
  {
   "cell_type": "markdown",
   "metadata": {},
   "source": [
    "### Error Handling"
   ]
  },
  {
   "cell_type": "code",
   "execution_count": 53,
   "metadata": {},
   "outputs": [
    {
     "name": "stdout",
     "output_type": "stream",
     "text": [
      "Error: Error happened\n",
      "Completed.\n"
     ]
    }
   ],
   "source": [
    "class MyException(Exception):\n",
    "    def __init__(self, message):\n",
    "        self.message = message\n",
    "    \n",
    "    def __str__(self):\n",
    "        return self.message\n",
    "    \n",
    "def proceed():\n",
    "    raise MyException('Error happened')\n",
    "#     pass\n",
    "    \n",
    "try:\n",
    "    proceed()\n",
    "except MyException as e:\n",
    "    print(f'Error: {e}')\n",
    "else:\n",
    "    print('MyException was not thrown, and no other exceptions were thrown.')\n",
    "finally:\n",
    "    print(\"Completed.\")"
   ]
  }
 ],
 "metadata": {
  "kernelspec": {
   "display_name": "Python 3",
   "language": "python",
   "name": "python3"
  },
  "language_info": {
   "codemirror_mode": {
    "name": "ipython",
    "version": 3
   },
   "file_extension": ".py",
   "mimetype": "text/x-python",
   "name": "python",
   "nbconvert_exporter": "python",
   "pygments_lexer": "ipython3",
   "version": "3.8.2"
  }
 },
 "nbformat": 4,
 "nbformat_minor": 4
}
