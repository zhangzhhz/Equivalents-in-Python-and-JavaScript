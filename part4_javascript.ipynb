{
 "cells": [
  {
   "cell_type": "markdown",
   "metadata": {},
   "source": [
    "# [Equivalents in Python and JavaScript. Part 4](https://djangotricks.blogspot.com/2018/07/equivalents-in-python-and-javascript-part-4.html)"
   ]
  },
  {
   "cell_type": "markdown",
   "metadata": {},
   "source": [
    "### Function Arguments"
   ]
  },
  {
   "cell_type": "code",
   "execution_count": 23,
   "metadata": {},
   "outputs": [
    {
     "name": "stderr",
     "output_type": "stream",
     "text": [
      "6:8 - Cannot find name 'post_id'.\n",
      "6:20 - Cannot find name 'reason'.\n"
     ]
    }
   ],
   "source": [
    "function report(post_id, reason='not-relevant') {\n",
    "    console.log({post_id: post_id, reason: reason});\n",
    "}\n",
    "\n",
    "report(42);\n",
    "report(post_id=42, reason='spam')"
   ]
  },
  {
   "cell_type": "markdown",
   "metadata": {},
   "source": [
    "positional arguments:"
   ]
  },
  {
   "cell_type": "code",
   "execution_count": 24,
   "metadata": {},
   "outputs": [
    {
     "name": "stdout",
     "output_type": "stream",
     "text": [
      "{ post_id: 42, tags: [ 'python', 'javascript', 'hello world' ] }\n"
     ]
    }
   ],
   "source": [
    "function add_tags(post_id, ...tags) {\n",
    "    console.log({post_id: post_id, tags: tags});\n",
    "}\n",
    "\n",
    "add_tags(42, 'python', 'javascript', 'hello world');"
   ]
  },
  {
   "cell_type": "markdown",
   "metadata": {},
   "source": [
    "keyword arguments, kind of:"
   ]
  },
  {
   "cell_type": "code",
   "execution_count": 28,
   "metadata": {},
   "outputs": [
    {
     "name": "stdout",
     "output_type": "stream",
     "text": [
      "{\n",
      "  title: 'Hello, World!',\n",
      "  content: 'This is our first post.',\n",
      "  is_published: true\n",
      "}\n"
     ]
    }
   ],
   "source": [
    "function create_post(options) {\n",
    "    console.log(options)\n",
    "}\n",
    "\n",
    "create_post({\n",
    "    title: 'Hello, World!', \n",
    "    content: 'This is our first post.',\n",
    "    is_published: true,\n",
    "});"
   ]
  },
  {
   "cell_type": "markdown",
   "metadata": {},
   "source": [
    "### Classes and Inheritance"
   ]
  },
  {
   "cell_type": "code",
   "execution_count": 50,
   "metadata": {},
   "outputs": [
    {
     "name": "stdout",
     "output_type": "stream",
     "text": [
      "true\n",
      "Post { id: 42, title: 'Hello World!' }\n",
      "Hello World!\n"
     ]
    }
   ],
   "source": [
    "class Post {\n",
    "    constructor(id, title) {\n",
    "        this.id = id;\n",
    "        this.title = title;\n",
    "    }\n",
    "    \n",
    "    toString() {\n",
    "        return this.title;\n",
    "    }\n",
    "}\n",
    "\n",
    "let post = new Post(42, 'Hello World!')\n",
    "console.log(post instanceof Post)\n",
    "console.log(post)\n",
    "console.log(post + '');"
   ]
  },
  {
   "cell_type": "code",
   "execution_count": 56,
   "metadata": {},
   "outputs": [
    {
     "name": "stdout",
     "output_type": "stream",
     "text": [
      "true\n",
      "true\n",
      "Hello, World!\n",
      "DjangoTricks (https://djangotricks.blogspot.com)\n"
     ]
    }
   ],
   "source": [
    "class Article extends Post {\n",
    "    constructor(id, title, content) {\n",
    "        super(id, title);\n",
    "        this.content = content;\n",
    "    }\n",
    "}\n",
    "\n",
    "class Link extends Post {\n",
    "    constructor(id, title, url) {\n",
    "        super(id, title);\n",
    "        this.url = url;\n",
    "    }\n",
    "    \n",
    "    toString() {\n",
    "        return `${super.toString()} (${this.url})`;\n",
    "    }\n",
    "}\n",
    "\n",
    "let article = new Article(1, 'Hello, World!', 'This is my first article.')\n",
    "let link = new Link(2, 'DjangoTricks', 'https://djangotricks.blogspot.com')\n",
    "console.log(article instanceof Post)\n",
    "console.log(link instanceof Post)\n",
    "console.log(article + '')\n",
    "console.log(link + '')"
   ]
  },
  {
   "cell_type": "markdown",
   "metadata": {},
   "source": [
    "### Class Properties: Getters and Setters"
   ]
  },
  {
   "cell_type": "code",
   "execution_count": 60,
   "metadata": {},
   "outputs": [
    {
     "name": "stdout",
     "output_type": "stream",
     "text": [
      "true\n",
      "\n",
      "Hello World! (hello-world)\n"
     ]
    }
   ],
   "source": [
    "class Post {\n",
    "    constructor(id, title) {\n",
    "        this.id = id;\n",
    "        this.title = title;\n",
    "        this._slug = '';\n",
    "    }\n",
    "    \n",
    "    get slug() {\n",
    "        return this._slug;\n",
    "    }\n",
    "    \n",
    "    set slug(value) {\n",
    "        this._slug = value;\n",
    "    }\n",
    "    \n",
    "    toString() {\n",
    "        return `${this.title} (${this.slug})`;\n",
    "    }\n",
    "}\n",
    "\n",
    "let post = new Post(42, 'Hello World!')\n",
    "console.log(post instanceof Post)\n",
    "console.log(post.slug)\n",
    "post.slug = 'hello-world'\n",
    "console.log(post + '')"
   ]
  }
 ],
 "metadata": {
  "kernelspec": {
   "display_name": "JavaScript",
   "language": "javascript",
   "name": "jslab"
  },
  "language_info": {
   "file_extension": ".js",
   "mimetype": "text/javascript",
   "name": "javascript",
   "version": ""
  }
 },
 "nbformat": 4,
 "nbformat_minor": 4
}
